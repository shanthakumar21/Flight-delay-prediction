{
  "nbformat": 4,
  "nbformat_minor": 0,
  "metadata": {
    "colab": {
      "name": "module2oversampling.ipynb",
      "provenance": [],
      "collapsed_sections": [],
      "toc_visible": true,
      "machine_shape": "hm"
    },
    "kernelspec": {
      "name": "python3",
      "display_name": "Python 3"
    }
  },
  "cells": [
    {
      "cell_type": "code",
      "metadata": {
        "id": "Ahj6_6HNhMv3",
        "colab_type": "code",
        "outputId": "2298b398-9b28-43d6-c3e6-48decdfae865",
        "colab": {
          "base_uri": "https://localhost:8080/",
          "height": 122
        }
      },
      "source": [
        "import pandas as pd\n",
        "from pandas import np\n",
        "from google.colab import drive\n",
        "drive.mount('/content/gdrive')"
      ],
      "execution_count": 1,
      "outputs": [
        {
          "output_type": "stream",
          "text": [
            "Go to this URL in a browser: https://accounts.google.com/o/oauth2/auth?client_id=947318989803-6bn6qk8qdgf4n4g3pfee6491hc0brc4i.apps.googleusercontent.com&redirect_uri=urn%3aietf%3awg%3aoauth%3a2.0%3aoob&response_type=code&scope=email%20https%3a%2f%2fwww.googleapis.com%2fauth%2fdocs.test%20https%3a%2f%2fwww.googleapis.com%2fauth%2fdrive%20https%3a%2f%2fwww.googleapis.com%2fauth%2fdrive.photos.readonly%20https%3a%2f%2fwww.googleapis.com%2fauth%2fpeopleapi.readonly\n",
            "\n",
            "Enter your authorization code:\n",
            "··········\n",
            "Mounted at /content/gdrive\n"
          ],
          "name": "stdout"
        }
      ]
    },
    {
      "cell_type": "code",
      "metadata": {
        "id": "Ar1kg6tKiHuo",
        "colab_type": "code",
        "outputId": "8554b01d-a082-403d-b6cd-ad30478802db",
        "colab": {
          "base_uri": "https://localhost:8080/",
          "height": 71
        }
      },
      "source": [
        "m1 = pd.read_csv(\"/content/gdrive/My Drive/finalmerge.csv\",index_col=0)"
      ],
      "execution_count": 2,
      "outputs": [
        {
          "output_type": "stream",
          "text": [
            "/usr/local/lib/python3.6/dist-packages/numpy/lib/arraysetops.py:569: FutureWarning: elementwise comparison failed; returning scalar instead, but in the future will perform elementwise comparison\n",
            "  mask |= (ar1 == a)\n"
          ],
          "name": "stderr"
        }
      ]
    },
    {
      "cell_type": "code",
      "metadata": {
        "id": "H0K-n9gI3itd",
        "colab_type": "code",
        "colab": {
          "base_uri": "https://localhost:8080/",
          "height": 439
        },
        "outputId": "451fc729-7329-478e-89cb-79520af28093"
      },
      "source": [
        "X=m1.drop([\n",
        "               \"ArrDelayMinutes\",\n",
        "                \"ArrTime\",\n",
        "                \"ArrDel15\",\n",
        "                  \"Unnamed: 0_x\",\n",
        "                  \"Unnamed: 0_y\",\n",
        "                  \"Unnamed: 0.1\",\n",
        "                \"Origin\",\n",
        "                \"Dest\",\n",
        "                \"airport_x\",\n",
        "                \"airport_y\",\n",
        "                \"FlightDate\",\n",
        "                \"date_y\",\n",
        "                \"date_x\",\n",
        "                \"time_x\",\n",
        "                \"time_y\",\n",
        "                \"windspeedKmph_y\",\n",
        "                \"winddirDegree_y\",\n",
        "                \"weatherCode_y\",\n",
        "                \"precipMM_y\",\n",
        "                \"visibility_y\",\n",
        "                \"pressure_y\",\n",
        "                \"cloudcover_y\",\n",
        "                \"DewPointF_y\",\n",
        "                \"WindGustKmph_y\",\n",
        "                \"tempF_y\",\n",
        "               \"WindChillF_y\",\n",
        "               \"humidity_y\",],axis=1)\n",
        "X\n"
      ],
      "execution_count": 3,
      "outputs": [
        {
          "output_type": "execute_result",
          "data": {
            "text/html": [
              "<div>\n",
              "<style scoped>\n",
              "    .dataframe tbody tr th:only-of-type {\n",
              "        vertical-align: middle;\n",
              "    }\n",
              "\n",
              "    .dataframe tbody tr th {\n",
              "        vertical-align: top;\n",
              "    }\n",
              "\n",
              "    .dataframe thead th {\n",
              "        text-align: right;\n",
              "    }\n",
              "</style>\n",
              "<table border=\"1\" class=\"dataframe\">\n",
              "  <thead>\n",
              "    <tr style=\"text-align: right;\">\n",
              "      <th></th>\n",
              "      <th>Quarter</th>\n",
              "      <th>Year</th>\n",
              "      <th>Month</th>\n",
              "      <th>DayofMonth</th>\n",
              "      <th>DepTime</th>\n",
              "      <th>DepDel15</th>\n",
              "      <th>CRSDepTime</th>\n",
              "      <th>DepDelayMinutes</th>\n",
              "      <th>OriginAirportID</th>\n",
              "      <th>DestAirportID</th>\n",
              "      <th>CRSArrTime</th>\n",
              "      <th>windspeedKmph_x</th>\n",
              "      <th>winddirDegree_x</th>\n",
              "      <th>weatherCode_x</th>\n",
              "      <th>precipMM_x</th>\n",
              "      <th>visibility_x</th>\n",
              "      <th>pressure_x</th>\n",
              "      <th>cloudcover_x</th>\n",
              "      <th>DewPointF_x</th>\n",
              "      <th>WindGustKmph_x</th>\n",
              "      <th>tempF_x</th>\n",
              "      <th>WindChillF_x</th>\n",
              "      <th>humidity_x</th>\n",
              "    </tr>\n",
              "  </thead>\n",
              "  <tbody>\n",
              "    <tr>\n",
              "      <th>0</th>\n",
              "      <td>1</td>\n",
              "      <td>2016</td>\n",
              "      <td>1</td>\n",
              "      <td>1</td>\n",
              "      <td>741.0</td>\n",
              "      <td>0.0</td>\n",
              "      <td>700</td>\n",
              "      <td>0.0</td>\n",
              "      <td>14747</td>\n",
              "      <td>12478</td>\n",
              "      <td>1600</td>\n",
              "      <td>22</td>\n",
              "      <td>255</td>\n",
              "      <td>113</td>\n",
              "      <td>0.0</td>\n",
              "      <td>10</td>\n",
              "      <td>1015</td>\n",
              "      <td>0</td>\n",
              "      <td>32</td>\n",
              "      <td>26</td>\n",
              "      <td>41</td>\n",
              "      <td>32</td>\n",
              "      <td>74</td>\n",
              "    </tr>\n",
              "    <tr>\n",
              "      <th>1</th>\n",
              "      <td>1</td>\n",
              "      <td>2016</td>\n",
              "      <td>1</td>\n",
              "      <td>1</td>\n",
              "      <td>705.0</td>\n",
              "      <td>0.0</td>\n",
              "      <td>700</td>\n",
              "      <td>0.0</td>\n",
              "      <td>14747</td>\n",
              "      <td>12892</td>\n",
              "      <td>900</td>\n",
              "      <td>12</td>\n",
              "      <td>31</td>\n",
              "      <td>113</td>\n",
              "      <td>0.0</td>\n",
              "      <td>10</td>\n",
              "      <td>1020</td>\n",
              "      <td>2</td>\n",
              "      <td>30</td>\n",
              "      <td>15</td>\n",
              "      <td>51</td>\n",
              "      <td>47</td>\n",
              "      <td>46</td>\n",
              "    </tr>\n",
              "    <tr>\n",
              "      <th>2</th>\n",
              "      <td>1</td>\n",
              "      <td>2016</td>\n",
              "      <td>1</td>\n",
              "      <td>1</td>\n",
              "      <td>658.0</td>\n",
              "      <td>0.0</td>\n",
              "      <td>700</td>\n",
              "      <td>3.0</td>\n",
              "      <td>14747</td>\n",
              "      <td>12892</td>\n",
              "      <td>900</td>\n",
              "      <td>12</td>\n",
              "      <td>31</td>\n",
              "      <td>113</td>\n",
              "      <td>0.0</td>\n",
              "      <td>10</td>\n",
              "      <td>1020</td>\n",
              "      <td>2</td>\n",
              "      <td>30</td>\n",
              "      <td>15</td>\n",
              "      <td>51</td>\n",
              "      <td>47</td>\n",
              "      <td>46</td>\n",
              "    </tr>\n",
              "    <tr>\n",
              "      <th>3</th>\n",
              "      <td>1</td>\n",
              "      <td>2016</td>\n",
              "      <td>1</td>\n",
              "      <td>1</td>\n",
              "      <td>723.0</td>\n",
              "      <td>0.0</td>\n",
              "      <td>700</td>\n",
              "      <td>6.0</td>\n",
              "      <td>14747</td>\n",
              "      <td>12478</td>\n",
              "      <td>1500</td>\n",
              "      <td>21</td>\n",
              "      <td>254</td>\n",
              "      <td>113</td>\n",
              "      <td>0.0</td>\n",
              "      <td>10</td>\n",
              "      <td>1016</td>\n",
              "      <td>0</td>\n",
              "      <td>33</td>\n",
              "      <td>24</td>\n",
              "      <td>42</td>\n",
              "      <td>33</td>\n",
              "      <td>74</td>\n",
              "    </tr>\n",
              "    <tr>\n",
              "      <th>4</th>\n",
              "      <td>1</td>\n",
              "      <td>2016</td>\n",
              "      <td>1</td>\n",
              "      <td>1</td>\n",
              "      <td>726.0</td>\n",
              "      <td>0.0</td>\n",
              "      <td>700</td>\n",
              "      <td>0.0</td>\n",
              "      <td>14747</td>\n",
              "      <td>12892</td>\n",
              "      <td>1000</td>\n",
              "      <td>10</td>\n",
              "      <td>39</td>\n",
              "      <td>113</td>\n",
              "      <td>0.0</td>\n",
              "      <td>10</td>\n",
              "      <td>1020</td>\n",
              "      <td>9</td>\n",
              "      <td>29</td>\n",
              "      <td>13</td>\n",
              "      <td>53</td>\n",
              "      <td>49</td>\n",
              "      <td>42</td>\n",
              "    </tr>\n",
              "    <tr>\n",
              "      <th>...</th>\n",
              "      <td>...</td>\n",
              "      <td>...</td>\n",
              "      <td>...</td>\n",
              "      <td>...</td>\n",
              "      <td>...</td>\n",
              "      <td>...</td>\n",
              "      <td>...</td>\n",
              "      <td>...</td>\n",
              "      <td>...</td>\n",
              "      <td>...</td>\n",
              "      <td>...</td>\n",
              "      <td>...</td>\n",
              "      <td>...</td>\n",
              "      <td>...</td>\n",
              "      <td>...</td>\n",
              "      <td>...</td>\n",
              "      <td>...</td>\n",
              "      <td>...</td>\n",
              "      <td>...</td>\n",
              "      <td>...</td>\n",
              "      <td>...</td>\n",
              "      <td>...</td>\n",
              "      <td>...</td>\n",
              "    </tr>\n",
              "    <tr>\n",
              "      <th>1815400</th>\n",
              "      <td>3</td>\n",
              "      <td>2017</td>\n",
              "      <td>9</td>\n",
              "      <td>18</td>\n",
              "      <td>2240.0</td>\n",
              "      <td>0.0</td>\n",
              "      <td>2200</td>\n",
              "      <td>0.0</td>\n",
              "      <td>12478</td>\n",
              "      <td>12892</td>\n",
              "      <td>200</td>\n",
              "      <td>5</td>\n",
              "      <td>220</td>\n",
              "      <td>113</td>\n",
              "      <td>0.0</td>\n",
              "      <td>10</td>\n",
              "      <td>1012</td>\n",
              "      <td>1</td>\n",
              "      <td>70</td>\n",
              "      <td>6</td>\n",
              "      <td>74</td>\n",
              "      <td>74</td>\n",
              "      <td>87</td>\n",
              "    </tr>\n",
              "    <tr>\n",
              "      <th>1815401</th>\n",
              "      <td>3</td>\n",
              "      <td>2017</td>\n",
              "      <td>9</td>\n",
              "      <td>21</td>\n",
              "      <td>2358.0</td>\n",
              "      <td>1.0</td>\n",
              "      <td>2200</td>\n",
              "      <td>73.0</td>\n",
              "      <td>12478</td>\n",
              "      <td>12892</td>\n",
              "      <td>200</td>\n",
              "      <td>11</td>\n",
              "      <td>179</td>\n",
              "      <td>143</td>\n",
              "      <td>0.0</td>\n",
              "      <td>10</td>\n",
              "      <td>1010</td>\n",
              "      <td>56</td>\n",
              "      <td>63</td>\n",
              "      <td>12</td>\n",
              "      <td>65</td>\n",
              "      <td>65</td>\n",
              "      <td>91</td>\n",
              "    </tr>\n",
              "    <tr>\n",
              "      <th>1815402</th>\n",
              "      <td>3</td>\n",
              "      <td>2017</td>\n",
              "      <td>9</td>\n",
              "      <td>22</td>\n",
              "      <td>2240.0</td>\n",
              "      <td>0.0</td>\n",
              "      <td>2200</td>\n",
              "      <td>0.0</td>\n",
              "      <td>12478</td>\n",
              "      <td>12892</td>\n",
              "      <td>200</td>\n",
              "      <td>10</td>\n",
              "      <td>135</td>\n",
              "      <td>113</td>\n",
              "      <td>0.0</td>\n",
              "      <td>10</td>\n",
              "      <td>1010</td>\n",
              "      <td>3</td>\n",
              "      <td>59</td>\n",
              "      <td>12</td>\n",
              "      <td>67</td>\n",
              "      <td>67</td>\n",
              "      <td>75</td>\n",
              "    </tr>\n",
              "    <tr>\n",
              "      <th>1815403</th>\n",
              "      <td>3</td>\n",
              "      <td>2017</td>\n",
              "      <td>9</td>\n",
              "      <td>23</td>\n",
              "      <td>2146.0</td>\n",
              "      <td>0.0</td>\n",
              "      <td>2100</td>\n",
              "      <td>3.0</td>\n",
              "      <td>12478</td>\n",
              "      <td>12892</td>\n",
              "      <td>100</td>\n",
              "      <td>6</td>\n",
              "      <td>202</td>\n",
              "      <td>113</td>\n",
              "      <td>0.0</td>\n",
              "      <td>10</td>\n",
              "      <td>1009</td>\n",
              "      <td>4</td>\n",
              "      <td>61</td>\n",
              "      <td>8</td>\n",
              "      <td>68</td>\n",
              "      <td>68</td>\n",
              "      <td>80</td>\n",
              "    </tr>\n",
              "    <tr>\n",
              "      <th>1815404</th>\n",
              "      <td>3</td>\n",
              "      <td>2017</td>\n",
              "      <td>9</td>\n",
              "      <td>24</td>\n",
              "      <td>2246.0</td>\n",
              "      <td>0.0</td>\n",
              "      <td>2200</td>\n",
              "      <td>1.0</td>\n",
              "      <td>12478</td>\n",
              "      <td>12892</td>\n",
              "      <td>200</td>\n",
              "      <td>4</td>\n",
              "      <td>193</td>\n",
              "      <td>113</td>\n",
              "      <td>0.0</td>\n",
              "      <td>10</td>\n",
              "      <td>1011</td>\n",
              "      <td>3</td>\n",
              "      <td>64</td>\n",
              "      <td>6</td>\n",
              "      <td>72</td>\n",
              "      <td>72</td>\n",
              "      <td>78</td>\n",
              "    </tr>\n",
              "  </tbody>\n",
              "</table>\n",
              "<p>1815405 rows × 23 columns</p>\n",
              "</div>"
            ],
            "text/plain": [
              "         Quarter  Year  Month  ...  tempF_x  WindChillF_x  humidity_x\n",
              "0              1  2016      1  ...       41            32          74\n",
              "1              1  2016      1  ...       51            47          46\n",
              "2              1  2016      1  ...       51            47          46\n",
              "3              1  2016      1  ...       42            33          74\n",
              "4              1  2016      1  ...       53            49          42\n",
              "...          ...   ...    ...  ...      ...           ...         ...\n",
              "1815400        3  2017      9  ...       74            74          87\n",
              "1815401        3  2017      9  ...       65            65          91\n",
              "1815402        3  2017      9  ...       67            67          75\n",
              "1815403        3  2017      9  ...       68            68          80\n",
              "1815404        3  2017      9  ...       72            72          78\n",
              "\n",
              "[1815405 rows x 23 columns]"
            ]
          },
          "metadata": {
            "tags": []
          },
          "execution_count": 3
        }
      ]
    },
    {
      "cell_type": "code",
      "metadata": {
        "id": "8BA8KcqY3v2H",
        "colab_type": "code",
        "outputId": "099ac80d-f241-46b1-b46d-8e2cf093c8ba",
        "colab": {
          "base_uri": "https://localhost:8080/",
          "height": 34
        }
      },
      "source": [
        ""
      ],
      "execution_count": 0,
      "outputs": [
        {
          "output_type": "execute_result",
          "data": {
            "text/plain": [
              "(1815405, 32)"
            ]
          },
          "metadata": {
            "tags": []
          },
          "execution_count": 4
        }
      ]
    },
    {
      "cell_type": "code",
      "metadata": {
        "id": "MB5Lrgim33w6",
        "colab_type": "code",
        "colab": {
          "base_uri": "https://localhost:8080/",
          "height": 34
        },
        "outputId": "19c1a049-dcd0-41ca-f3f4-05bdd76cf4d6"
      },
      "source": [
        "Y=m1[\"ArrDel15\"]\n",
        "X.shape"
      ],
      "execution_count": 5,
      "outputs": [
        {
          "output_type": "execute_result",
          "data": {
            "text/plain": [
              "(1815405, 23)"
            ]
          },
          "metadata": {
            "tags": []
          },
          "execution_count": 5
        }
      ]
    },
    {
      "cell_type": "code",
      "metadata": {
        "id": "8uSFcN233675",
        "colab_type": "code",
        "outputId": "962de1f9-6052-4f08-8ae6-319d03d55440",
        "colab": {
          "base_uri": "https://localhost:8080/",
          "height": 34
        }
      },
      "source": [
        "import collections\n",
        "collections.Counter(Y)"
      ],
      "execution_count": 6,
      "outputs": [
        {
          "output_type": "execute_result",
          "data": {
            "text/plain": [
              "Counter({0.0: 1436039, 1.0: 379366})"
            ]
          },
          "metadata": {
            "tags": []
          },
          "execution_count": 6
        }
      ]
    },
    {
      "cell_type": "code",
      "metadata": {
        "id": "5fnxn0di4ABW",
        "colab_type": "code",
        "colab": {}
      },
      "source": [
        "from sklearn.model_selection import train_test_split  \n",
        "X_train, X_test, Y_train, Y_test = train_test_split(X, Y, test_size = 0.20, random_state = 42) "
      ],
      "execution_count": 0,
      "outputs": []
    },
    {
      "cell_type": "code",
      "metadata": {
        "id": "zW-LTVQV4DRl",
        "colab_type": "code",
        "outputId": "f3b0925f-bf49-4300-adc9-1bda17573045",
        "colab": {
          "base_uri": "https://localhost:8080/",
          "height": 105
        }
      },
      "source": [
        "from imblearn.over_sampling import SMOTE"
      ],
      "execution_count": 8,
      "outputs": [
        {
          "output_type": "stream",
          "text": [
            "/usr/local/lib/python3.6/dist-packages/sklearn/externals/six.py:31: FutureWarning: The module is deprecated in version 0.21 and will be removed in version 0.23 since we've dropped support for Python 2.7. Please rely on the official version of six (https://pypi.org/project/six/).\n",
            "  \"(https://pypi.org/project/six/).\", FutureWarning)\n",
            "/usr/local/lib/python3.6/dist-packages/sklearn/utils/deprecation.py:144: FutureWarning: The sklearn.neighbors.base module is  deprecated in version 0.22 and will be removed in version 0.24. The corresponding classes / functions should instead be imported from sklearn.neighbors. Anything that cannot be imported from sklearn.neighbors is now part of the private API.\n",
            "  warnings.warn(message, FutureWarning)\n"
          ],
          "name": "stderr"
        }
      ]
    },
    {
      "cell_type": "code",
      "metadata": {
        "id": "Ym-TpALq4Gw5",
        "colab_type": "code",
        "outputId": "c9fea556-a98f-43e4-cec1-7d81e27a7e27",
        "colab": {
          "base_uri": "https://localhost:8080/",
          "height": 71
        }
      },
      "source": [
        "sm = SMOTE()\n",
        "X_train_res, Y_train_res = sm.fit_sample(X_train, Y_train)"
      ],
      "execution_count": 9,
      "outputs": [
        {
          "output_type": "stream",
          "text": [
            "/usr/local/lib/python3.6/dist-packages/sklearn/utils/deprecation.py:87: FutureWarning: Function safe_indexing is deprecated; safe_indexing is deprecated in version 0.22 and will be removed in version 0.24.\n",
            "  warnings.warn(msg, category=FutureWarning)\n"
          ],
          "name": "stderr"
        }
      ]
    },
    {
      "cell_type": "code",
      "metadata": {
        "id": "oCKidWLI4Jci",
        "colab_type": "code",
        "outputId": "4985d965-2a0a-4b2c-d7c6-b6021357e01e",
        "colab": {
          "base_uri": "https://localhost:8080/",
          "height": 34
        }
      },
      "source": [
        "import collections\n",
        "collections.Counter(Y_train_res)"
      ],
      "execution_count": 10,
      "outputs": [
        {
          "output_type": "execute_result",
          "data": {
            "text/plain": [
              "Counter({0.0: 1148933, 1.0: 1148933})"
            ]
          },
          "metadata": {
            "tags": []
          },
          "execution_count": 10
        }
      ]
    },
    {
      "cell_type": "code",
      "metadata": {
        "id": "FbgXD08d5HMo",
        "colab_type": "code",
        "outputId": "33b43def-2c2a-42a8-8b76-f3b796a8e9cc",
        "colab": {
          "base_uri": "https://localhost:8080/",
          "height": 153
        }
      },
      "source": [
        "#EXTRATREESCLASSIFIER\n",
        "\n",
        "from sklearn.ensemble import ExtraTreesClassifier\n",
        "etc=ExtraTreesClassifier(n_jobs=-1,random_state = None)\n",
        "etc.fit(X_train_res,Y_train_res)\n",
        "\n"
      ],
      "execution_count": 11,
      "outputs": [
        {
          "output_type": "execute_result",
          "data": {
            "text/plain": [
              "ExtraTreesClassifier(bootstrap=False, ccp_alpha=0.0, class_weight=None,\n",
              "                     criterion='gini', max_depth=None, max_features='auto',\n",
              "                     max_leaf_nodes=None, max_samples=None,\n",
              "                     min_impurity_decrease=0.0, min_impurity_split=None,\n",
              "                     min_samples_leaf=1, min_samples_split=2,\n",
              "                     min_weight_fraction_leaf=0.0, n_estimators=100, n_jobs=-1,\n",
              "                     oob_score=False, random_state=None, verbose=0,\n",
              "                     warm_start=False)"
            ]
          },
          "metadata": {
            "tags": []
          },
          "execution_count": 11
        }
      ]
    },
    {
      "cell_type": "code",
      "metadata": {
        "id": "tMFWGyem83rZ",
        "colab_type": "code",
        "colab": {}
      },
      "source": [
        "Y_predetc=etc.predict(X_test)"
      ],
      "execution_count": 0,
      "outputs": []
    },
    {
      "cell_type": "code",
      "metadata": {
        "id": "oH_dLNaGBBA9",
        "colab_type": "code",
        "outputId": "0cca4d2c-bca9-44c9-ccf0-75e7b4f3ce56",
        "colab": {
          "base_uri": "https://localhost:8080/",
          "height": 34
        }
      },
      "source": [
        "#ACCURACY\n",
        "from sklearn.metrics import accuracy_score\n",
        "accuracy_score(Y_test, Y_predetc)\n",
        "#accuracy_score(Y_train,Y_predetc)"
      ],
      "execution_count": 13,
      "outputs": [
        {
          "output_type": "execute_result",
          "data": {
            "text/plain": [
              "0.9028508790049603"
            ]
          },
          "metadata": {
            "tags": []
          },
          "execution_count": 13
        }
      ]
    },
    {
      "cell_type": "code",
      "metadata": {
        "id": "qAvnyqqLBSjP",
        "colab_type": "code",
        "outputId": "d0c62416-d569-46a2-ddcf-ace0f48bbb14",
        "colab": {
          "base_uri": "https://localhost:8080/",
          "height": 51
        }
      },
      "source": [
        "from sklearn import metrics\n",
        "cm=metrics.confusion_matrix(Y_test,Y_predetc)\n",
        "\n",
        "print(cm)"
      ],
      "execution_count": 14,
      "outputs": [
        {
          "output_type": "stream",
          "text": [
            "[[270314  16792]\n",
            " [ 18481  57494]]\n"
          ],
          "name": "stdout"
        }
      ]
    },
    {
      "cell_type": "code",
      "metadata": {
        "id": "ZHDSHsRXBb6D",
        "colab_type": "code",
        "outputId": "ab946d16-caf1-43e9-c8a9-781d387eed80",
        "colab": {
          "base_uri": "https://localhost:8080/",
          "height": 170
        }
      },
      "source": [
        "from sklearn.metrics import classification_report\n",
        "target_names=[\"Class 0\",\"Class 1\"]\n",
        "print(classification_report(Y_test,Y_predetc,target_names=target_names))"
      ],
      "execution_count": 15,
      "outputs": [
        {
          "output_type": "stream",
          "text": [
            "              precision    recall  f1-score   support\n",
            "\n",
            "     Class 0       0.94      0.94      0.94    287106\n",
            "     Class 1       0.77      0.76      0.77     75975\n",
            "\n",
            "    accuracy                           0.90    363081\n",
            "   macro avg       0.85      0.85      0.85    363081\n",
            "weighted avg       0.90      0.90      0.90    363081\n",
            "\n"
          ],
          "name": "stdout"
        }
      ]
    },
    {
      "cell_type": "code",
      "metadata": {
        "id": "zq5QwoVLCBiJ",
        "colab_type": "code",
        "outputId": "faed9b19-f7c4-4d53-dbb7-b11d32f143b3",
        "colab": {
          "base_uri": "https://localhost:8080/",
          "height": 119
        }
      },
      "source": [
        "#DECISION TREE\n",
        "from sklearn.tree import DecisionTreeClassifier\n",
        "\n",
        "clf=DecisionTreeClassifier()\n",
        "clf.fit(X_train_res, Y_train_res)#DECISION TREE\n"
      ],
      "execution_count": 16,
      "outputs": [
        {
          "output_type": "execute_result",
          "data": {
            "text/plain": [
              "DecisionTreeClassifier(ccp_alpha=0.0, class_weight=None, criterion='gini',\n",
              "                       max_depth=None, max_features=None, max_leaf_nodes=None,\n",
              "                       min_impurity_decrease=0.0, min_impurity_split=None,\n",
              "                       min_samples_leaf=1, min_samples_split=2,\n",
              "                       min_weight_fraction_leaf=0.0, presort='deprecated',\n",
              "                       random_state=None, splitter='best')"
            ]
          },
          "metadata": {
            "tags": []
          },
          "execution_count": 16
        }
      ]
    },
    {
      "cell_type": "code",
      "metadata": {
        "id": "akRawpesCG_v",
        "colab_type": "code",
        "colab": {}
      },
      "source": [
        "Y_preddec=clf.predict(X_test)"
      ],
      "execution_count": 0,
      "outputs": []
    },
    {
      "cell_type": "code",
      "metadata": {
        "id": "R5D1IApKCKRE",
        "colab_type": "code",
        "outputId": "10033470-d33b-46f2-f492-b87ea1627288",
        "colab": {
          "base_uri": "https://localhost:8080/",
          "height": 51
        }
      },
      "source": [
        "from sklearn import metrics\n",
        "cm=metrics.confusion_matrix(Y_test,Y_preddec)\n",
        "print(cm)"
      ],
      "execution_count": 18,
      "outputs": [
        {
          "output_type": "stream",
          "text": [
            "[[261654  25452]\n",
            " [ 22464  53511]]\n"
          ],
          "name": "stdout"
        }
      ]
    },
    {
      "cell_type": "code",
      "metadata": {
        "id": "h-zwEe-ECXhm",
        "colab_type": "code",
        "outputId": "73ab330d-4b06-4035-d886-093b68b5a57f",
        "colab": {
          "base_uri": "https://localhost:8080/",
          "height": 170
        }
      },
      "source": [
        "target_names=[\"Class 0\",\"Class 1\"]\n",
        "print(classification_report(Y_test,Y_preddec,target_names=target_names))"
      ],
      "execution_count": 19,
      "outputs": [
        {
          "output_type": "stream",
          "text": [
            "              precision    recall  f1-score   support\n",
            "\n",
            "     Class 0       0.92      0.91      0.92    287106\n",
            "     Class 1       0.68      0.70      0.69     75975\n",
            "\n",
            "    accuracy                           0.87    363081\n",
            "   macro avg       0.80      0.81      0.80    363081\n",
            "weighted avg       0.87      0.87      0.87    363081\n",
            "\n"
          ],
          "name": "stdout"
        }
      ]
    },
    {
      "cell_type": "code",
      "metadata": {
        "id": "XNbgJe7s72UL",
        "colab_type": "code",
        "outputId": "530eb539-df2b-4d6b-87ca-95045025e86a",
        "colab": {
          "base_uri": "https://localhost:8080/",
          "height": 34
        }
      },
      "source": [
        "from sklearn.naive_bayes import GaussianNB\n",
        "gnb = GaussianNB()\n",
        "gnb.fit(X_train_res,Y_train_res)"
      ],
      "execution_count": 20,
      "outputs": [
        {
          "output_type": "execute_result",
          "data": {
            "text/plain": [
              "GaussianNB(priors=None, var_smoothing=1e-09)"
            ]
          },
          "metadata": {
            "tags": []
          },
          "execution_count": 20
        }
      ]
    },
    {
      "cell_type": "code",
      "metadata": {
        "id": "a-U89QJSDFxE",
        "colab_type": "code",
        "colab": {}
      },
      "source": [
        "Y_predgau=gnb.predict(X_test)"
      ],
      "execution_count": 0,
      "outputs": []
    },
    {
      "cell_type": "code",
      "metadata": {
        "id": "aCAVT7WJCdAE",
        "colab_type": "code",
        "outputId": "e837ec7d-fc78-432c-89eb-b756b1ce4561",
        "colab": {
          "base_uri": "https://localhost:8080/",
          "height": 34
        }
      },
      "source": [
        "from sklearn.metrics import accuracy_score\n",
        "accuracy_score(Y_test, Y_predgau)"
      ],
      "execution_count": 22,
      "outputs": [
        {
          "output_type": "execute_result",
          "data": {
            "text/plain": [
              "0.8955687573847158"
            ]
          },
          "metadata": {
            "tags": []
          },
          "execution_count": 22
        }
      ]
    },
    {
      "cell_type": "code",
      "metadata": {
        "id": "PFpLlQInCaR1",
        "colab_type": "code",
        "outputId": "0bbfbc51-b164-4f6a-955e-f3ac80d8655b",
        "colab": {
          "base_uri": "https://localhost:8080/",
          "height": 136
        }
      },
      "source": [
        "#XGBoost\n",
        "import xgboost \n",
        "from xgboost import XGBClassifier\n",
        "model = XGBClassifier()\n",
        "model.fit(X_train_res, Y_train_res)"
      ],
      "execution_count": 23,
      "outputs": [
        {
          "output_type": "execute_result",
          "data": {
            "text/plain": [
              "XGBClassifier(base_score=0.5, booster='gbtree', colsample_bylevel=1,\n",
              "              colsample_bynode=1, colsample_bytree=1, gamma=0,\n",
              "              learning_rate=0.1, max_delta_step=0, max_depth=3,\n",
              "              min_child_weight=1, missing=None, n_estimators=100, n_jobs=1,\n",
              "              nthread=None, objective='binary:logistic', random_state=0,\n",
              "              reg_alpha=0, reg_lambda=1, scale_pos_weight=1, seed=None,\n",
              "              silent=None, subsample=1, verbosity=1)"
            ]
          },
          "metadata": {
            "tags": []
          },
          "execution_count": 23
        }
      ]
    },
    {
      "cell_type": "code",
      "metadata": {
        "id": "Kh19F7MqFPoo",
        "colab_type": "code",
        "colab": {}
      },
      "source": [
        "X_test_np = X_test.values"
      ],
      "execution_count": 0,
      "outputs": []
    },
    {
      "cell_type": "code",
      "metadata": {
        "id": "b8gddYLqFUQl",
        "colab_type": "code",
        "outputId": "0074ab1a-838e-4c6c-c4fd-ef2d9b2ee714",
        "colab": {
          "base_uri": "https://localhost:8080/",
          "height": 34
        }
      },
      "source": [
        "from sklearn.metrics import accuracy_score\n",
        "accuracy_score(Y_test, Y_predgau)"
      ],
      "execution_count": 25,
      "outputs": [
        {
          "output_type": "execute_result",
          "data": {
            "text/plain": [
              "0.8955687573847158"
            ]
          },
          "metadata": {
            "tags": []
          },
          "execution_count": 25
        }
      ]
    },
    {
      "cell_type": "code",
      "metadata": {
        "id": "JAHHptc7FeKP",
        "colab_type": "code",
        "colab": {
          "base_uri": "https://localhost:8080/",
          "height": 326
        },
        "outputId": "2efe3e3a-dd92-404c-a9df-009d0f100f79"
      },
      "source": [
        "#logistic regression\n",
        "from sklearn.linear_model import LogisticRegression\n",
        "logreg = LogisticRegression()\n",
        "logreg.fit(X_train_res, Y_train_res)\n",
        "\n",
        "y_predlog=logreg.predict(X_test)\n",
        "\n",
        "target_names=[\"Class 0\",\"Class 1\"]\n",
        "print(classification_report(Y_test,y_predlog,target_names=target_names))"
      ],
      "execution_count": 26,
      "outputs": [
        {
          "output_type": "stream",
          "text": [
            "/usr/local/lib/python3.6/dist-packages/sklearn/linear_model/_logistic.py:940: ConvergenceWarning: lbfgs failed to converge (status=1):\n",
            "STOP: TOTAL NO. of ITERATIONS REACHED LIMIT.\n",
            "\n",
            "Increase the number of iterations (max_iter) or scale the data as shown in:\n",
            "    https://scikit-learn.org/stable/modules/preprocessing.html\n",
            "Please also refer to the documentation for alternative solver options:\n",
            "    https://scikit-learn.org/stable/modules/linear_model.html#logistic-regression\n",
            "  extra_warning_msg=_LOGISTIC_SOLVER_CONVERGENCE_MSG)\n"
          ],
          "name": "stderr"
        },
        {
          "output_type": "stream",
          "text": [
            "              precision    recall  f1-score   support\n",
            "\n",
            "     Class 0       0.94      0.93      0.93    287106\n",
            "     Class 1       0.74      0.78      0.76     75975\n",
            "\n",
            "    accuracy                           0.90    363081\n",
            "   macro avg       0.84      0.85      0.85    363081\n",
            "weighted avg       0.90      0.90      0.90    363081\n",
            "\n"
          ],
          "name": "stdout"
        }
      ]
    },
    {
      "cell_type": "code",
      "metadata": {
        "id": "Bby6i2uTFgWS",
        "colab_type": "code",
        "colab": {}
      },
      "source": [
        ""
      ],
      "execution_count": 0,
      "outputs": []
    },
    {
      "cell_type": "code",
      "metadata": {
        "id": "2iobKd00FlAh",
        "colab_type": "code",
        "colab": {}
      },
      "source": [
        ""
      ],
      "execution_count": 0,
      "outputs": []
    },
    {
      "cell_type": "code",
      "metadata": {
        "id": "ED-sGkFtFnOB",
        "colab_type": "code",
        "colab": {}
      },
      "source": [
        "\n"
      ],
      "execution_count": 0,
      "outputs": []
    },
    {
      "cell_type": "code",
      "metadata": {
        "id": "lLH6O9T-Fpzy",
        "colab_type": "code",
        "colab": {}
      },
      "source": [
        "\n"
      ],
      "execution_count": 0,
      "outputs": []
    },
    {
      "cell_type": "code",
      "metadata": {
        "id": "9nMtu-yDFsFq",
        "colab_type": "code",
        "colab": {}
      },
      "source": [
        ""
      ],
      "execution_count": 0,
      "outputs": []
    },
    {
      "cell_type": "code",
      "metadata": {
        "id": "r4EsA4FsFuVK",
        "colab_type": "code",
        "colab": {}
      },
      "source": [
        ""
      ],
      "execution_count": 0,
      "outputs": []
    },
    {
      "cell_type": "code",
      "metadata": {
        "id": "E8ogJfzCFyXN",
        "colab_type": "code",
        "colab": {}
      },
      "source": [
        ""
      ],
      "execution_count": 0,
      "outputs": []
    },
    {
      "cell_type": "code",
      "metadata": {
        "id": "lBODgABKF3vI",
        "colab_type": "code",
        "colab": {}
      },
      "source": [
        ""
      ],
      "execution_count": 0,
      "outputs": []
    },
    {
      "cell_type": "code",
      "metadata": {
        "id": "5I5h-eBFPY8R",
        "colab_type": "code",
        "colab": {}
      },
      "source": [
        ""
      ],
      "execution_count": 0,
      "outputs": []
    },
    {
      "cell_type": "code",
      "metadata": {
        "id": "saVlZk91PcEs",
        "colab_type": "code",
        "colab": {}
      },
      "source": [
        ""
      ],
      "execution_count": 0,
      "outputs": []
    },
    {
      "cell_type": "code",
      "metadata": {
        "id": "GeCJsBjnPfqn",
        "colab_type": "code",
        "colab": {}
      },
      "source": [
        ""
      ],
      "execution_count": 0,
      "outputs": []
    },
    {
      "cell_type": "code",
      "metadata": {
        "id": "9KAkPU07dOvC",
        "colab_type": "code",
        "colab": {}
      },
      "source": [
        ""
      ],
      "execution_count": 0,
      "outputs": []
    }
  ]
}