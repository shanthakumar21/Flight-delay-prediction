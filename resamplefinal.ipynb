{
  "nbformat": 4,
  "nbformat_minor": 0,
  "metadata": {
    "colab": {
      "name": "resamplefinal.ipynb",
      "provenance": [],
      "toc_visible": true
    },
    "kernelspec": {
      "name": "python3",
      "display_name": "Python 3"
    }
  },
  "cells": [
    {
      "cell_type": "code",
      "metadata": {
        "id": "8X0IWzWXDXCm",
        "colab_type": "code",
        "outputId": "2a9e2d8f-23b4-4829-9f53-3b565d0a0d8e",
        "colab": {
          "base_uri": "https://localhost:8080/",
          "height": 54
        }
      },
      "source": [
        "from google.colab import drive\n",
        "\n",
        "drive.mount('/content/gdrive')"
      ],
      "execution_count": 33,
      "outputs": [
        {
          "output_type": "stream",
          "text": [
            "Drive already mounted at /content/gdrive; to attempt to forcibly remount, call drive.mount(\"/content/gdrive\", force_remount=True).\n"
          ],
          "name": "stdout"
        }
      ]
    },
    {
      "cell_type": "code",
      "metadata": {
        "id": "_zn13unaDdSG",
        "colab_type": "code",
        "colab": {}
      },
      "source": [
        "\n",
        "import pandas as pd\n",
        "import os\n",
        "import numpy as np  \n",
        "import matplotlib.pyplot as plt  \n",
        "import seaborn as sns\n",
        "%matplotlib inline\n",
        "from collections import Counter \n",
        "import matplotlib.pyplot as plt"
      ],
      "execution_count": 0,
      "outputs": []
    },
    {
      "cell_type": "code",
      "metadata": {
        "id": "Hm7-80tVDnJ7",
        "colab_type": "code",
        "outputId": "dafb259b-1545-49cc-8f9a-831e91d4d3d2",
        "colab": {
          "base_uri": "https://localhost:8080/",
          "height": 71
        }
      },
      "source": [
        "m = pd.read_csv(\"/content/gdrive/My Drive/finalmerge.csv\",index_col=0)"
      ],
      "execution_count": 35,
      "outputs": [
        {
          "output_type": "stream",
          "text": [
            "/usr/local/lib/python3.6/dist-packages/numpy/lib/arraysetops.py:569: FutureWarning: elementwise comparison failed; returning scalar instead, but in the future will perform elementwise comparison\n",
            "  mask |= (ar1 == a)\n"
          ],
          "name": "stderr"
        }
      ]
    },
    {
      "cell_type": "code",
      "metadata": {
        "id": "yWCFpx81Dr1a",
        "colab_type": "code",
        "outputId": "060d1362-bf35-4f17-ef18-51862141902f",
        "colab": {
          "base_uri": "https://localhost:8080/",
          "height": 439
        }
      },
      "source": [
        "X=m.drop([\n",
        "               \"ArrDelayMinutes\",\n",
        "                \"ArrTime\",\n",
        "                \"ArrDel15\",\n",
        "                 \"Unnamed: 0_x\",\n",
        "                 \"Unnamed: 0_y\",\n",
        "                 \"Unnamed: 0.1\",\n",
        "                \"Origin\",\n",
        "                \"Dest\",\n",
        "                \"airport_x\",\n",
        "                \"airport_y\",\n",
        "                \"FlightDate\",\n",
        "                \"date_y\",\n",
        "                \"date_x\",\n",
        "                \"time_x\",\n",
        "                \"time_y\",\n",
        "                \"windspeedKmph_y\",\n",
        "                \"winddirDegree_y\",\n",
        "                \"weatherCode_y\",\n",
        "                \"precipMM_y\",\n",
        "                \"visibility_y\",\n",
        "                \"pressure_y\",\n",
        "                \"cloudcover_y\",\n",
        "                \"DewPointF_y\",\n",
        "                \"WindGustKmph_y\",\n",
        "                \"tempF_y\",\n",
        "               \"WindChillF_y\",\n",
        "               \"humidity_y\",],axis=1)\n",
        "X"
      ],
      "execution_count": 36,
      "outputs": [
        {
          "output_type": "execute_result",
          "data": {
            "text/html": [
              "<div>\n",
              "<style scoped>\n",
              "    .dataframe tbody tr th:only-of-type {\n",
              "        vertical-align: middle;\n",
              "    }\n",
              "\n",
              "    .dataframe tbody tr th {\n",
              "        vertical-align: top;\n",
              "    }\n",
              "\n",
              "    .dataframe thead th {\n",
              "        text-align: right;\n",
              "    }\n",
              "</style>\n",
              "<table border=\"1\" class=\"dataframe\">\n",
              "  <thead>\n",
              "    <tr style=\"text-align: right;\">\n",
              "      <th></th>\n",
              "      <th>Quarter</th>\n",
              "      <th>Year</th>\n",
              "      <th>Month</th>\n",
              "      <th>DayofMonth</th>\n",
              "      <th>DepTime</th>\n",
              "      <th>DepDel15</th>\n",
              "      <th>CRSDepTime</th>\n",
              "      <th>DepDelayMinutes</th>\n",
              "      <th>OriginAirportID</th>\n",
              "      <th>DestAirportID</th>\n",
              "      <th>CRSArrTime</th>\n",
              "      <th>windspeedKmph_x</th>\n",
              "      <th>winddirDegree_x</th>\n",
              "      <th>weatherCode_x</th>\n",
              "      <th>precipMM_x</th>\n",
              "      <th>visibility_x</th>\n",
              "      <th>pressure_x</th>\n",
              "      <th>cloudcover_x</th>\n",
              "      <th>DewPointF_x</th>\n",
              "      <th>WindGustKmph_x</th>\n",
              "      <th>tempF_x</th>\n",
              "      <th>WindChillF_x</th>\n",
              "      <th>humidity_x</th>\n",
              "    </tr>\n",
              "  </thead>\n",
              "  <tbody>\n",
              "    <tr>\n",
              "      <th>0</th>\n",
              "      <td>1</td>\n",
              "      <td>2016</td>\n",
              "      <td>1</td>\n",
              "      <td>1</td>\n",
              "      <td>741.0</td>\n",
              "      <td>0.0</td>\n",
              "      <td>700</td>\n",
              "      <td>0.0</td>\n",
              "      <td>14747</td>\n",
              "      <td>12478</td>\n",
              "      <td>1600</td>\n",
              "      <td>22</td>\n",
              "      <td>255</td>\n",
              "      <td>113</td>\n",
              "      <td>0.0</td>\n",
              "      <td>10</td>\n",
              "      <td>1015</td>\n",
              "      <td>0</td>\n",
              "      <td>32</td>\n",
              "      <td>26</td>\n",
              "      <td>41</td>\n",
              "      <td>32</td>\n",
              "      <td>74</td>\n",
              "    </tr>\n",
              "    <tr>\n",
              "      <th>1</th>\n",
              "      <td>1</td>\n",
              "      <td>2016</td>\n",
              "      <td>1</td>\n",
              "      <td>1</td>\n",
              "      <td>705.0</td>\n",
              "      <td>0.0</td>\n",
              "      <td>700</td>\n",
              "      <td>0.0</td>\n",
              "      <td>14747</td>\n",
              "      <td>12892</td>\n",
              "      <td>900</td>\n",
              "      <td>12</td>\n",
              "      <td>31</td>\n",
              "      <td>113</td>\n",
              "      <td>0.0</td>\n",
              "      <td>10</td>\n",
              "      <td>1020</td>\n",
              "      <td>2</td>\n",
              "      <td>30</td>\n",
              "      <td>15</td>\n",
              "      <td>51</td>\n",
              "      <td>47</td>\n",
              "      <td>46</td>\n",
              "    </tr>\n",
              "    <tr>\n",
              "      <th>2</th>\n",
              "      <td>1</td>\n",
              "      <td>2016</td>\n",
              "      <td>1</td>\n",
              "      <td>1</td>\n",
              "      <td>658.0</td>\n",
              "      <td>0.0</td>\n",
              "      <td>700</td>\n",
              "      <td>3.0</td>\n",
              "      <td>14747</td>\n",
              "      <td>12892</td>\n",
              "      <td>900</td>\n",
              "      <td>12</td>\n",
              "      <td>31</td>\n",
              "      <td>113</td>\n",
              "      <td>0.0</td>\n",
              "      <td>10</td>\n",
              "      <td>1020</td>\n",
              "      <td>2</td>\n",
              "      <td>30</td>\n",
              "      <td>15</td>\n",
              "      <td>51</td>\n",
              "      <td>47</td>\n",
              "      <td>46</td>\n",
              "    </tr>\n",
              "    <tr>\n",
              "      <th>3</th>\n",
              "      <td>1</td>\n",
              "      <td>2016</td>\n",
              "      <td>1</td>\n",
              "      <td>1</td>\n",
              "      <td>723.0</td>\n",
              "      <td>0.0</td>\n",
              "      <td>700</td>\n",
              "      <td>6.0</td>\n",
              "      <td>14747</td>\n",
              "      <td>12478</td>\n",
              "      <td>1500</td>\n",
              "      <td>21</td>\n",
              "      <td>254</td>\n",
              "      <td>113</td>\n",
              "      <td>0.0</td>\n",
              "      <td>10</td>\n",
              "      <td>1016</td>\n",
              "      <td>0</td>\n",
              "      <td>33</td>\n",
              "      <td>24</td>\n",
              "      <td>42</td>\n",
              "      <td>33</td>\n",
              "      <td>74</td>\n",
              "    </tr>\n",
              "    <tr>\n",
              "      <th>4</th>\n",
              "      <td>1</td>\n",
              "      <td>2016</td>\n",
              "      <td>1</td>\n",
              "      <td>1</td>\n",
              "      <td>726.0</td>\n",
              "      <td>0.0</td>\n",
              "      <td>700</td>\n",
              "      <td>0.0</td>\n",
              "      <td>14747</td>\n",
              "      <td>12892</td>\n",
              "      <td>1000</td>\n",
              "      <td>10</td>\n",
              "      <td>39</td>\n",
              "      <td>113</td>\n",
              "      <td>0.0</td>\n",
              "      <td>10</td>\n",
              "      <td>1020</td>\n",
              "      <td>9</td>\n",
              "      <td>29</td>\n",
              "      <td>13</td>\n",
              "      <td>53</td>\n",
              "      <td>49</td>\n",
              "      <td>42</td>\n",
              "    </tr>\n",
              "    <tr>\n",
              "      <th>...</th>\n",
              "      <td>...</td>\n",
              "      <td>...</td>\n",
              "      <td>...</td>\n",
              "      <td>...</td>\n",
              "      <td>...</td>\n",
              "      <td>...</td>\n",
              "      <td>...</td>\n",
              "      <td>...</td>\n",
              "      <td>...</td>\n",
              "      <td>...</td>\n",
              "      <td>...</td>\n",
              "      <td>...</td>\n",
              "      <td>...</td>\n",
              "      <td>...</td>\n",
              "      <td>...</td>\n",
              "      <td>...</td>\n",
              "      <td>...</td>\n",
              "      <td>...</td>\n",
              "      <td>...</td>\n",
              "      <td>...</td>\n",
              "      <td>...</td>\n",
              "      <td>...</td>\n",
              "      <td>...</td>\n",
              "    </tr>\n",
              "    <tr>\n",
              "      <th>1815400</th>\n",
              "      <td>3</td>\n",
              "      <td>2017</td>\n",
              "      <td>9</td>\n",
              "      <td>18</td>\n",
              "      <td>2240.0</td>\n",
              "      <td>0.0</td>\n",
              "      <td>2200</td>\n",
              "      <td>0.0</td>\n",
              "      <td>12478</td>\n",
              "      <td>12892</td>\n",
              "      <td>200</td>\n",
              "      <td>5</td>\n",
              "      <td>220</td>\n",
              "      <td>113</td>\n",
              "      <td>0.0</td>\n",
              "      <td>10</td>\n",
              "      <td>1012</td>\n",
              "      <td>1</td>\n",
              "      <td>70</td>\n",
              "      <td>6</td>\n",
              "      <td>74</td>\n",
              "      <td>74</td>\n",
              "      <td>87</td>\n",
              "    </tr>\n",
              "    <tr>\n",
              "      <th>1815401</th>\n",
              "      <td>3</td>\n",
              "      <td>2017</td>\n",
              "      <td>9</td>\n",
              "      <td>21</td>\n",
              "      <td>2358.0</td>\n",
              "      <td>1.0</td>\n",
              "      <td>2200</td>\n",
              "      <td>73.0</td>\n",
              "      <td>12478</td>\n",
              "      <td>12892</td>\n",
              "      <td>200</td>\n",
              "      <td>11</td>\n",
              "      <td>179</td>\n",
              "      <td>143</td>\n",
              "      <td>0.0</td>\n",
              "      <td>10</td>\n",
              "      <td>1010</td>\n",
              "      <td>56</td>\n",
              "      <td>63</td>\n",
              "      <td>12</td>\n",
              "      <td>65</td>\n",
              "      <td>65</td>\n",
              "      <td>91</td>\n",
              "    </tr>\n",
              "    <tr>\n",
              "      <th>1815402</th>\n",
              "      <td>3</td>\n",
              "      <td>2017</td>\n",
              "      <td>9</td>\n",
              "      <td>22</td>\n",
              "      <td>2240.0</td>\n",
              "      <td>0.0</td>\n",
              "      <td>2200</td>\n",
              "      <td>0.0</td>\n",
              "      <td>12478</td>\n",
              "      <td>12892</td>\n",
              "      <td>200</td>\n",
              "      <td>10</td>\n",
              "      <td>135</td>\n",
              "      <td>113</td>\n",
              "      <td>0.0</td>\n",
              "      <td>10</td>\n",
              "      <td>1010</td>\n",
              "      <td>3</td>\n",
              "      <td>59</td>\n",
              "      <td>12</td>\n",
              "      <td>67</td>\n",
              "      <td>67</td>\n",
              "      <td>75</td>\n",
              "    </tr>\n",
              "    <tr>\n",
              "      <th>1815403</th>\n",
              "      <td>3</td>\n",
              "      <td>2017</td>\n",
              "      <td>9</td>\n",
              "      <td>23</td>\n",
              "      <td>2146.0</td>\n",
              "      <td>0.0</td>\n",
              "      <td>2100</td>\n",
              "      <td>3.0</td>\n",
              "      <td>12478</td>\n",
              "      <td>12892</td>\n",
              "      <td>100</td>\n",
              "      <td>6</td>\n",
              "      <td>202</td>\n",
              "      <td>113</td>\n",
              "      <td>0.0</td>\n",
              "      <td>10</td>\n",
              "      <td>1009</td>\n",
              "      <td>4</td>\n",
              "      <td>61</td>\n",
              "      <td>8</td>\n",
              "      <td>68</td>\n",
              "      <td>68</td>\n",
              "      <td>80</td>\n",
              "    </tr>\n",
              "    <tr>\n",
              "      <th>1815404</th>\n",
              "      <td>3</td>\n",
              "      <td>2017</td>\n",
              "      <td>9</td>\n",
              "      <td>24</td>\n",
              "      <td>2246.0</td>\n",
              "      <td>0.0</td>\n",
              "      <td>2200</td>\n",
              "      <td>1.0</td>\n",
              "      <td>12478</td>\n",
              "      <td>12892</td>\n",
              "      <td>200</td>\n",
              "      <td>4</td>\n",
              "      <td>193</td>\n",
              "      <td>113</td>\n",
              "      <td>0.0</td>\n",
              "      <td>10</td>\n",
              "      <td>1011</td>\n",
              "      <td>3</td>\n",
              "      <td>64</td>\n",
              "      <td>6</td>\n",
              "      <td>72</td>\n",
              "      <td>72</td>\n",
              "      <td>78</td>\n",
              "    </tr>\n",
              "  </tbody>\n",
              "</table>\n",
              "<p>1815405 rows × 23 columns</p>\n",
              "</div>"
            ],
            "text/plain": [
              "         Quarter  Year  Month  ...  tempF_x  WindChillF_x  humidity_x\n",
              "0              1  2016      1  ...       41            32          74\n",
              "1              1  2016      1  ...       51            47          46\n",
              "2              1  2016      1  ...       51            47          46\n",
              "3              1  2016      1  ...       42            33          74\n",
              "4              1  2016      1  ...       53            49          42\n",
              "...          ...   ...    ...  ...      ...           ...         ...\n",
              "1815400        3  2017      9  ...       74            74          87\n",
              "1815401        3  2017      9  ...       65            65          91\n",
              "1815402        3  2017      9  ...       67            67          75\n",
              "1815403        3  2017      9  ...       68            68          80\n",
              "1815404        3  2017      9  ...       72            72          78\n",
              "\n",
              "[1815405 rows x 23 columns]"
            ]
          },
          "metadata": {
            "tags": []
          },
          "execution_count": 36
        }
      ]
    },
    {
      "cell_type": "code",
      "metadata": {
        "id": "LKqqeEOkD1wB",
        "colab_type": "code",
        "colab": {}
      },
      "source": [
        "Y=m[\"ArrDel15\"]\n",
        "from sklearn.model_selection import train_test_split  \n",
        "X_train, X_test, Y_train, Y_test = train_test_split(X, Y, test_size = 0.25, random_state = None) "
      ],
      "execution_count": 0,
      "outputs": []
    },
    {
      "cell_type": "code",
      "metadata": {
        "id": "1tUs8sAoD9V8",
        "colab_type": "code",
        "colab": {}
      },
      "source": [
        "#Y_train.value_counts()"
      ],
      "execution_count": 0,
      "outputs": []
    },
    {
      "cell_type": "code",
      "metadata": {
        "id": "bG_JmYv7D_xr",
        "colab_type": "code",
        "colab": {}
      },
      "source": [
        "#resampling to make the 0 and 1 values equal \n",
        "X = pd.concat([X_train, Y_train], axis=1)"
      ],
      "execution_count": 0,
      "outputs": []
    },
    {
      "cell_type": "code",
      "metadata": {
        "id": "ZNQeRPs-ESm3",
        "colab_type": "code",
        "colab": {}
      },
      "source": [
        "not_delayed = X[X.ArrDel15==0]\n",
        "delayed = X[X.ArrDel15==1]"
      ],
      "execution_count": 0,
      "outputs": []
    },
    {
      "cell_type": "code",
      "metadata": {
        "id": "364jXLyqEU-C",
        "colab_type": "code",
        "colab": {}
      },
      "source": [
        "from sklearn.utils import resample\n",
        "delayed_upsampled = resample(delayed,replace=True, n_samples=len(not_delayed),random_state=27)"
      ],
      "execution_count": 0,
      "outputs": []
    },
    {
      "cell_type": "code",
      "metadata": {
        "id": "QQfZ4LpcEXuc",
        "colab_type": "code",
        "colab": {}
      },
      "source": [
        "upsampled = pd.concat([not_delayed, delayed_upsampled])"
      ],
      "execution_count": 0,
      "outputs": []
    },
    {
      "cell_type": "code",
      "metadata": {
        "id": "YEHgxUywEZ95",
        "colab_type": "code",
        "outputId": "28c90c16-04e0-4331-c4b9-c3ed4f311c27",
        "colab": {
          "base_uri": "https://localhost:8080/",
          "height": 68
        }
      },
      "source": [
        "upsampled.ArrDel15.value_counts()"
      ],
      "execution_count": 43,
      "outputs": [
        {
          "output_type": "execute_result",
          "data": {
            "text/plain": [
              "1.0    1076937\n",
              "0.0    1076937\n",
              "Name: ArrDel15, dtype: int64"
            ]
          },
          "metadata": {
            "tags": []
          },
          "execution_count": 43
        }
      ]
    },
    {
      "cell_type": "code",
      "metadata": {
        "id": "cGGy5HViEb5g",
        "colab_type": "code",
        "colab": {}
      },
      "source": [
        "#values are equal now\n",
        "X = upsampled.drop(['ArrDel15'], axis=1)\n",
        "y = upsampled.ArrDel15"
      ],
      "execution_count": 0,
      "outputs": []
    },
    {
      "cell_type": "code",
      "metadata": {
        "id": "MI1vzEECEipx",
        "colab_type": "code",
        "colab": {}
      },
      "source": [
        "X_train,X_test,y_train,y_test=train_test_split(X,y,test_size=0.25,random_state=0)"
      ],
      "execution_count": 0,
      "outputs": []
    },
    {
      "cell_type": "code",
      "metadata": {
        "id": "MJTQ8nc-EltD",
        "colab_type": "code",
        "outputId": "a7ca7df4-ca2e-4685-9dd6-046b0c7c45e6",
        "colab": {
          "base_uri": "https://localhost:8080/",
          "height": 439
        }
      },
      "source": [
        "X_train"
      ],
      "execution_count": 46,
      "outputs": [
        {
          "output_type": "execute_result",
          "data": {
            "text/html": [
              "<div>\n",
              "<style scoped>\n",
              "    .dataframe tbody tr th:only-of-type {\n",
              "        vertical-align: middle;\n",
              "    }\n",
              "\n",
              "    .dataframe tbody tr th {\n",
              "        vertical-align: top;\n",
              "    }\n",
              "\n",
              "    .dataframe thead th {\n",
              "        text-align: right;\n",
              "    }\n",
              "</style>\n",
              "<table border=\"1\" class=\"dataframe\">\n",
              "  <thead>\n",
              "    <tr style=\"text-align: right;\">\n",
              "      <th></th>\n",
              "      <th>Quarter</th>\n",
              "      <th>Year</th>\n",
              "      <th>Month</th>\n",
              "      <th>DayofMonth</th>\n",
              "      <th>DepTime</th>\n",
              "      <th>DepDel15</th>\n",
              "      <th>CRSDepTime</th>\n",
              "      <th>DepDelayMinutes</th>\n",
              "      <th>OriginAirportID</th>\n",
              "      <th>DestAirportID</th>\n",
              "      <th>CRSArrTime</th>\n",
              "      <th>windspeedKmph_x</th>\n",
              "      <th>winddirDegree_x</th>\n",
              "      <th>weatherCode_x</th>\n",
              "      <th>precipMM_x</th>\n",
              "      <th>visibility_x</th>\n",
              "      <th>pressure_x</th>\n",
              "      <th>cloudcover_x</th>\n",
              "      <th>DewPointF_x</th>\n",
              "      <th>WindGustKmph_x</th>\n",
              "      <th>tempF_x</th>\n",
              "      <th>WindChillF_x</th>\n",
              "      <th>humidity_x</th>\n",
              "    </tr>\n",
              "  </thead>\n",
              "  <tbody>\n",
              "    <tr>\n",
              "      <th>132262</th>\n",
              "      <td>4</td>\n",
              "      <td>2016</td>\n",
              "      <td>10</td>\n",
              "      <td>22</td>\n",
              "      <td>613.0</td>\n",
              "      <td>0.0</td>\n",
              "      <td>600</td>\n",
              "      <td>13.0</td>\n",
              "      <td>12266</td>\n",
              "      <td>13930</td>\n",
              "      <td>800</td>\n",
              "      <td>9</td>\n",
              "      <td>257</td>\n",
              "      <td>113</td>\n",
              "      <td>0.0</td>\n",
              "      <td>6</td>\n",
              "      <td>1020</td>\n",
              "      <td>1</td>\n",
              "      <td>36</td>\n",
              "      <td>12</td>\n",
              "      <td>43</td>\n",
              "      <td>41</td>\n",
              "      <td>81</td>\n",
              "    </tr>\n",
              "    <tr>\n",
              "      <th>504288</th>\n",
              "      <td>2</td>\n",
              "      <td>2016</td>\n",
              "      <td>4</td>\n",
              "      <td>14</td>\n",
              "      <td>2259.0</td>\n",
              "      <td>1.0</td>\n",
              "      <td>2100</td>\n",
              "      <td>81.0</td>\n",
              "      <td>13303</td>\n",
              "      <td>14771</td>\n",
              "      <td>100</td>\n",
              "      <td>13</td>\n",
              "      <td>213</td>\n",
              "      <td>113</td>\n",
              "      <td>0.1</td>\n",
              "      <td>10</td>\n",
              "      <td>1020</td>\n",
              "      <td>61</td>\n",
              "      <td>50</td>\n",
              "      <td>17</td>\n",
              "      <td>53</td>\n",
              "      <td>50</td>\n",
              "      <td>91</td>\n",
              "    </tr>\n",
              "    <tr>\n",
              "      <th>942565</th>\n",
              "      <td>1</td>\n",
              "      <td>2017</td>\n",
              "      <td>1</td>\n",
              "      <td>18</td>\n",
              "      <td>1819.0</td>\n",
              "      <td>0.0</td>\n",
              "      <td>1800</td>\n",
              "      <td>0.0</td>\n",
              "      <td>13930</td>\n",
              "      <td>11057</td>\n",
              "      <td>2100</td>\n",
              "      <td>9</td>\n",
              "      <td>337</td>\n",
              "      <td>116</td>\n",
              "      <td>0.0</td>\n",
              "      <td>10</td>\n",
              "      <td>1018</td>\n",
              "      <td>14</td>\n",
              "      <td>42</td>\n",
              "      <td>14</td>\n",
              "      <td>53</td>\n",
              "      <td>52</td>\n",
              "      <td>59</td>\n",
              "    </tr>\n",
              "    <tr>\n",
              "      <th>185001</th>\n",
              "      <td>4</td>\n",
              "      <td>2016</td>\n",
              "      <td>11</td>\n",
              "      <td>15</td>\n",
              "      <td>1306.0</td>\n",
              "      <td>0.0</td>\n",
              "      <td>1300</td>\n",
              "      <td>1.0</td>\n",
              "      <td>12892</td>\n",
              "      <td>13930</td>\n",
              "      <td>1900</td>\n",
              "      <td>5</td>\n",
              "      <td>234</td>\n",
              "      <td>113</td>\n",
              "      <td>0.0</td>\n",
              "      <td>10</td>\n",
              "      <td>1012</td>\n",
              "      <td>40</td>\n",
              "      <td>46</td>\n",
              "      <td>8</td>\n",
              "      <td>54</td>\n",
              "      <td>53</td>\n",
              "      <td>77</td>\n",
              "    </tr>\n",
              "    <tr>\n",
              "      <th>1481716</th>\n",
              "      <td>2</td>\n",
              "      <td>2017</td>\n",
              "      <td>5</td>\n",
              "      <td>31</td>\n",
              "      <td>920.0</td>\n",
              "      <td>0.0</td>\n",
              "      <td>900</td>\n",
              "      <td>0.0</td>\n",
              "      <td>13204</td>\n",
              "      <td>11618</td>\n",
              "      <td>1200</td>\n",
              "      <td>7</td>\n",
              "      <td>300</td>\n",
              "      <td>122</td>\n",
              "      <td>0.1</td>\n",
              "      <td>10</td>\n",
              "      <td>1017</td>\n",
              "      <td>97</td>\n",
              "      <td>58</td>\n",
              "      <td>9</td>\n",
              "      <td>65</td>\n",
              "      <td>67</td>\n",
              "      <td>73</td>\n",
              "    </tr>\n",
              "    <tr>\n",
              "      <th>...</th>\n",
              "      <td>...</td>\n",
              "      <td>...</td>\n",
              "      <td>...</td>\n",
              "      <td>...</td>\n",
              "      <td>...</td>\n",
              "      <td>...</td>\n",
              "      <td>...</td>\n",
              "      <td>...</td>\n",
              "      <td>...</td>\n",
              "      <td>...</td>\n",
              "      <td>...</td>\n",
              "      <td>...</td>\n",
              "      <td>...</td>\n",
              "      <td>...</td>\n",
              "      <td>...</td>\n",
              "      <td>...</td>\n",
              "      <td>...</td>\n",
              "      <td>...</td>\n",
              "      <td>...</td>\n",
              "      <td>...</td>\n",
              "      <td>...</td>\n",
              "      <td>...</td>\n",
              "      <td>...</td>\n",
              "    </tr>\n",
              "    <tr>\n",
              "      <th>1772004</th>\n",
              "      <td>3</td>\n",
              "      <td>2017</td>\n",
              "      <td>9</td>\n",
              "      <td>8</td>\n",
              "      <td>623.0</td>\n",
              "      <td>0.0</td>\n",
              "      <td>600</td>\n",
              "      <td>0.0</td>\n",
              "      <td>12892</td>\n",
              "      <td>12266</td>\n",
              "      <td>1200</td>\n",
              "      <td>13</td>\n",
              "      <td>74</td>\n",
              "      <td>113</td>\n",
              "      <td>0.0</td>\n",
              "      <td>10</td>\n",
              "      <td>1020</td>\n",
              "      <td>0</td>\n",
              "      <td>54</td>\n",
              "      <td>15</td>\n",
              "      <td>77</td>\n",
              "      <td>77</td>\n",
              "      <td>45</td>\n",
              "    </tr>\n",
              "    <tr>\n",
              "      <th>688781</th>\n",
              "      <td>3</td>\n",
              "      <td>2016</td>\n",
              "      <td>7</td>\n",
              "      <td>18</td>\n",
              "      <td>1437.0</td>\n",
              "      <td>1.0</td>\n",
              "      <td>1300</td>\n",
              "      <td>90.0</td>\n",
              "      <td>11292</td>\n",
              "      <td>12478</td>\n",
              "      <td>1800</td>\n",
              "      <td>25</td>\n",
              "      <td>186</td>\n",
              "      <td>200</td>\n",
              "      <td>2.3</td>\n",
              "      <td>8</td>\n",
              "      <td>1014</td>\n",
              "      <td>98</td>\n",
              "      <td>71</td>\n",
              "      <td>40</td>\n",
              "      <td>85</td>\n",
              "      <td>85</td>\n",
              "      <td>76</td>\n",
              "    </tr>\n",
              "    <tr>\n",
              "      <th>1582447</th>\n",
              "      <td>2</td>\n",
              "      <td>2017</td>\n",
              "      <td>6</td>\n",
              "      <td>30</td>\n",
              "      <td>1353.0</td>\n",
              "      <td>0.0</td>\n",
              "      <td>1400</td>\n",
              "      <td>3.0</td>\n",
              "      <td>10397</td>\n",
              "      <td>11298</td>\n",
              "      <td>1500</td>\n",
              "      <td>24</td>\n",
              "      <td>175</td>\n",
              "      <td>113</td>\n",
              "      <td>0.0</td>\n",
              "      <td>10</td>\n",
              "      <td>1011</td>\n",
              "      <td>34</td>\n",
              "      <td>74</td>\n",
              "      <td>28</td>\n",
              "      <td>89</td>\n",
              "      <td>90</td>\n",
              "      <td>61</td>\n",
              "    </tr>\n",
              "    <tr>\n",
              "      <th>682114</th>\n",
              "      <td>3</td>\n",
              "      <td>2016</td>\n",
              "      <td>7</td>\n",
              "      <td>21</td>\n",
              "      <td>1210.0</td>\n",
              "      <td>1.0</td>\n",
              "      <td>1000</td>\n",
              "      <td>95.0</td>\n",
              "      <td>11292</td>\n",
              "      <td>10397</td>\n",
              "      <td>1500</td>\n",
              "      <td>6</td>\n",
              "      <td>172</td>\n",
              "      <td>200</td>\n",
              "      <td>0.0</td>\n",
              "      <td>9</td>\n",
              "      <td>1018</td>\n",
              "      <td>77</td>\n",
              "      <td>70</td>\n",
              "      <td>8</td>\n",
              "      <td>92</td>\n",
              "      <td>92</td>\n",
              "      <td>51</td>\n",
              "    </tr>\n",
              "    <tr>\n",
              "      <th>1561275</th>\n",
              "      <td>2</td>\n",
              "      <td>2017</td>\n",
              "      <td>6</td>\n",
              "      <td>2</td>\n",
              "      <td>748.0</td>\n",
              "      <td>0.0</td>\n",
              "      <td>800</td>\n",
              "      <td>0.0</td>\n",
              "      <td>11057</td>\n",
              "      <td>12889</td>\n",
              "      <td>900</td>\n",
              "      <td>5</td>\n",
              "      <td>36</td>\n",
              "      <td>113</td>\n",
              "      <td>0.0</td>\n",
              "      <td>10</td>\n",
              "      <td>1010</td>\n",
              "      <td>0</td>\n",
              "      <td>27</td>\n",
              "      <td>6</td>\n",
              "      <td>81</td>\n",
              "      <td>82</td>\n",
              "      <td>14</td>\n",
              "    </tr>\n",
              "  </tbody>\n",
              "</table>\n",
              "<p>1615405 rows × 23 columns</p>\n",
              "</div>"
            ],
            "text/plain": [
              "         Quarter  Year  Month  ...  tempF_x  WindChillF_x  humidity_x\n",
              "132262         4  2016     10  ...       43            41          81\n",
              "504288         2  2016      4  ...       53            50          91\n",
              "942565         1  2017      1  ...       53            52          59\n",
              "185001         4  2016     11  ...       54            53          77\n",
              "1481716        2  2017      5  ...       65            67          73\n",
              "...          ...   ...    ...  ...      ...           ...         ...\n",
              "1772004        3  2017      9  ...       77            77          45\n",
              "688781         3  2016      7  ...       85            85          76\n",
              "1582447        2  2017      6  ...       89            90          61\n",
              "682114         3  2016      7  ...       92            92          51\n",
              "1561275        2  2017      6  ...       81            82          14\n",
              "\n",
              "[1615405 rows x 23 columns]"
            ]
          },
          "metadata": {
            "tags": []
          },
          "execution_count": 46
        }
      ]
    },
    {
      "cell_type": "code",
      "metadata": {
        "id": "x5ceTpGrEoMM",
        "colab_type": "code",
        "outputId": "ceddc2bc-5e36-4c21-86b5-51a32642f7c9",
        "colab": {
          "base_uri": "https://localhost:8080/",
          "height": 68
        }
      },
      "source": [
        "\n",
        "y_test.value_counts()"
      ],
      "execution_count": 0,
      "outputs": [
        {
          "output_type": "execute_result",
          "data": {
            "text/plain": [
              "0.0    269228\n",
              "1.0    269156\n",
              "Name: ArrDel15, dtype: int64"
            ]
          },
          "metadata": {
            "tags": []
          },
          "execution_count": 16
        }
      ]
    },
    {
      "cell_type": "code",
      "metadata": {
        "id": "bX1Uqn0REtV2",
        "colab_type": "code",
        "outputId": "1df64652-bfa2-4f53-dd4b-d8e23a462f67",
        "colab": {
          "base_uri": "https://localhost:8080/",
          "height": 68
        }
      },
      "source": [
        "y_train.value_counts()"
      ],
      "execution_count": 0,
      "outputs": [
        {
          "output_type": "execute_result",
          "data": {
            "text/plain": [
              "1.0    807612\n",
              "0.0    807540\n",
              "Name: ArrDel15, dtype: int64"
            ]
          },
          "metadata": {
            "tags": []
          },
          "execution_count": 17
        }
      ]
    },
    {
      "cell_type": "code",
      "metadata": {
        "id": "7g8aWqyWEzUe",
        "colab_type": "code",
        "outputId": "01cdb696-499e-4812-9125-a1f237021083",
        "colab": {
          "base_uri": "https://localhost:8080/",
          "height": 119
        }
      },
      "source": [
        "#0=1\n",
        "#decision tree\n",
        "from sklearn.tree import DecisionTreeClassifier\n",
        "\n",
        "clf=DecisionTreeClassifier()\n",
        "clf.fit(X_train,y_train)\n"
      ],
      "execution_count": 0,
      "outputs": [
        {
          "output_type": "execute_result",
          "data": {
            "text/plain": [
              "DecisionTreeClassifier(ccp_alpha=0.0, class_weight=None, criterion='gini',\n",
              "                       max_depth=None, max_features=None, max_leaf_nodes=None,\n",
              "                       min_impurity_decrease=0.0, min_impurity_split=None,\n",
              "                       min_samples_leaf=1, min_samples_split=2,\n",
              "                       min_weight_fraction_leaf=0.0, presort='deprecated',\n",
              "                       random_state=None, splitter='best')"
            ]
          },
          "metadata": {
            "tags": []
          },
          "execution_count": 18
        }
      ]
    },
    {
      "cell_type": "code",
      "metadata": {
        "id": "ZaStDQyjFCrd",
        "colab_type": "code",
        "colab": {}
      },
      "source": [
        "y_pred2 = clf.predict(X_test)"
      ],
      "execution_count": 0,
      "outputs": []
    },
    {
      "cell_type": "code",
      "metadata": {
        "id": "sMFoDn9tFQu8",
        "colab_type": "code",
        "outputId": "e28b23c4-e971-43f4-ebb5-651e3385f114",
        "colab": {
          "base_uri": "https://localhost:8080/",
          "height": 170
        }
      },
      "source": [
        "from sklearn.metrics import classification_report\n",
        "\n",
        "print(classification_report(y_test, y_pred2))"
      ],
      "execution_count": 0,
      "outputs": [
        {
          "output_type": "stream",
          "text": [
            "              precision    recall  f1-score   support\n",
            "\n",
            "         0.0       0.98      0.90      0.94    269228\n",
            "         1.0       0.91      0.98      0.95    269156\n",
            "\n",
            "    accuracy                           0.94    538384\n",
            "   macro avg       0.95      0.94      0.94    538384\n",
            "weighted avg       0.95      0.94      0.94    538384\n",
            "\n"
          ],
          "name": "stdout"
        }
      ]
    },
    {
      "cell_type": "code",
      "metadata": {
        "id": "mZq1xxgKFUEH",
        "colab_type": "code",
        "colab": {}
      },
      "source": [
        "#extra tree \n",
        "from sklearn.ensemble import ExtraTreesClassifier\n",
        "etc=ExtraTreesClassifier(n_jobs=-1,random_state =None)\n",
        "etc.fit(X_train,y_train)"
      ],
      "execution_count": 0,
      "outputs": []
    },
    {
      "cell_type": "code",
      "metadata": {
        "id": "3aptwijgFaU-",
        "colab_type": "code",
        "colab": {}
      },
      "source": [
        "Y_predetc=etc.predict(X_test)"
      ],
      "execution_count": 0,
      "outputs": []
    },
    {
      "cell_type": "code",
      "metadata": {
        "id": "HjmA8W_VG9zg",
        "colab_type": "code",
        "colab": {}
      },
      "source": [
        "target_names=[\"Class 0\",\"Class 1\"]\n",
        "#from sklearn.metrics import classification_report\n",
        "\n",
        "print(classification_report(y_test,Y_predetc,target_names=target_names))"
      ],
      "execution_count": 0,
      "outputs": []
    },
    {
      "cell_type": "code",
      "metadata": {
        "id": "NUt1WfdNHExI",
        "colab_type": "code",
        "colab": {}
      },
      "source": [
        "Y_predetc\n",
        "xtdf=pd.DataFrame(Y_predetc)\n",
        "xtdf[0]\n",
        "X_test[\"ArrDelayMinutes\"]=m[\"ArrDelayMinutes\"]\n",
        "X_test"
      ],
      "execution_count": 0,
      "outputs": []
    },
    {
      "cell_type": "code",
      "metadata": {
        "id": "agK0J2AtHMnx",
        "colab_type": "code",
        "colab": {}
      },
      "source": [
        "import collections\n",
        "\n",
        "classified_df = pd.DataFrame(X_test)\n",
        "\n",
        "classified_df['Arrdel15']=Y_predetc"
      ],
      "execution_count": 0,
      "outputs": []
    },
    {
      "cell_type": "code",
      "metadata": {
        "id": "PBufGqfUHPcu",
        "colab_type": "code",
        "colab": {}
      },
      "source": [
        "classified_df\n",
        "classified_df.to_csv(\"mod3manipulation.csv\")"
      ],
      "execution_count": 0,
      "outputs": []
    },
    {
      "cell_type": "code",
      "metadata": {
        "id": "eh4eYup3HSEX",
        "colab_type": "code",
        "colab": {}
      },
      "source": [
        "from google.colab import files\n",
        "files.download(\"mod3manipulation.csv\")"
      ],
      "execution_count": 0,
      "outputs": []
    },
    {
      "cell_type": "code",
      "metadata": {
        "id": "PbvPSis7HhHO",
        "colab_type": "code",
        "colab": {}
      },
      "source": [
        ""
      ],
      "execution_count": 0,
      "outputs": []
    },
    {
      "cell_type": "code",
      "metadata": {
        "id": "BRQOIFxgHyhu",
        "colab_type": "code",
        "colab": {}
      },
      "source": [
        "#xgboost\n",
        "import xgboost \n",
        "from xgboost import XGBClassifier\n",
        "model = XGBClassifier()\n",
        "model.fit(X_train, y_train)"
      ],
      "execution_count": 0,
      "outputs": []
    },
    {
      "cell_type": "code",
      "metadata": {
        "id": "M-5JcuH3IhvZ",
        "colab_type": "code",
        "colab": {}
      },
      "source": [
        "#not able to run xgboost , my pc crashing\n",
        "#taking the csv from extra trees as i got the highest accuracy in that\n"
      ],
      "execution_count": 0,
      "outputs": []
    },
    {
      "cell_type": "code",
      "metadata": {
        "id": "N2fQjE9gJgZW",
        "colab_type": "code",
        "colab": {}
      },
      "source": [
        ""
      ],
      "execution_count": 0,
      "outputs": []
    }
  ]
}